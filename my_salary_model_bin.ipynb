{
 "cells": [
  {
   "cell_type": "code",
   "execution_count": 1,
   "id": "ab0f7447-baf6-43e7-908b-688223d1ce90",
   "metadata": {},
   "outputs": [],
   "source": [
    "import pandas as pd"
   ]
  },
  {
   "cell_type": "code",
   "execution_count": 2,
   "id": "654c1412-0f13-4a82-859a-3f4f5ffbc856",
   "metadata": {},
   "outputs": [],
   "source": [
    "data=pd.read_csv(r\"employee_data.csv\")"
   ]
  },
  {
   "cell_type": "code",
   "execution_count": 3,
   "id": "460ad314-d4f1-44a5-8a7f-499d19f93e77",
   "metadata": {},
   "outputs": [
    {
     "data": {
      "text/html": [
       "<div>\n",
       "<style scoped>\n",
       "    .dataframe tbody tr th:only-of-type {\n",
       "        vertical-align: middle;\n",
       "    }\n",
       "\n",
       "    .dataframe tbody tr th {\n",
       "        vertical-align: top;\n",
       "    }\n",
       "\n",
       "    .dataframe thead th {\n",
       "        text-align: right;\n",
       "    }\n",
       "</style>\n",
       "<table border=\"1\" class=\"dataframe\">\n",
       "  <thead>\n",
       "    <tr style=\"text-align: right;\">\n",
       "      <th></th>\n",
       "      <th>Age</th>\n",
       "      <th>Gender</th>\n",
       "      <th>Education Level</th>\n",
       "      <th>Job Title</th>\n",
       "      <th>Years of Experience</th>\n",
       "      <th>Salary</th>\n",
       "    </tr>\n",
       "  </thead>\n",
       "  <tbody>\n",
       "    <tr>\n",
       "      <th>0</th>\n",
       "      <td>32.0</td>\n",
       "      <td>Male</td>\n",
       "      <td>Bachelor's</td>\n",
       "      <td>Software Engineer</td>\n",
       "      <td>5.0</td>\n",
       "      <td>90000.0</td>\n",
       "    </tr>\n",
       "    <tr>\n",
       "      <th>1</th>\n",
       "      <td>28.0</td>\n",
       "      <td>Female</td>\n",
       "      <td>Master's</td>\n",
       "      <td>Data Analyst</td>\n",
       "      <td>3.0</td>\n",
       "      <td>65000.0</td>\n",
       "    </tr>\n",
       "    <tr>\n",
       "      <th>2</th>\n",
       "      <td>45.0</td>\n",
       "      <td>Male</td>\n",
       "      <td>PhD</td>\n",
       "      <td>Senior Manager</td>\n",
       "      <td>15.0</td>\n",
       "      <td>150000.0</td>\n",
       "    </tr>\n",
       "    <tr>\n",
       "      <th>3</th>\n",
       "      <td>36.0</td>\n",
       "      <td>Female</td>\n",
       "      <td>Bachelor's</td>\n",
       "      <td>Sales Associate</td>\n",
       "      <td>7.0</td>\n",
       "      <td>60000.0</td>\n",
       "    </tr>\n",
       "    <tr>\n",
       "      <th>4</th>\n",
       "      <td>52.0</td>\n",
       "      <td>Male</td>\n",
       "      <td>Master's</td>\n",
       "      <td>Director</td>\n",
       "      <td>20.0</td>\n",
       "      <td>200000.0</td>\n",
       "    </tr>\n",
       "    <tr>\n",
       "      <th>5</th>\n",
       "      <td>29.0</td>\n",
       "      <td>Male</td>\n",
       "      <td>Bachelor's</td>\n",
       "      <td>Marketing Analyst</td>\n",
       "      <td>2.0</td>\n",
       "      <td>55000.0</td>\n",
       "    </tr>\n",
       "    <tr>\n",
       "      <th>6</th>\n",
       "      <td>42.0</td>\n",
       "      <td>Female</td>\n",
       "      <td>Master's</td>\n",
       "      <td>Product Manager</td>\n",
       "      <td>12.0</td>\n",
       "      <td>120000.0</td>\n",
       "    </tr>\n",
       "    <tr>\n",
       "      <th>7</th>\n",
       "      <td>31.0</td>\n",
       "      <td>Male</td>\n",
       "      <td>Bachelor's</td>\n",
       "      <td>Sales Manager</td>\n",
       "      <td>4.0</td>\n",
       "      <td>80000.0</td>\n",
       "    </tr>\n",
       "    <tr>\n",
       "      <th>8</th>\n",
       "      <td>26.0</td>\n",
       "      <td>Female</td>\n",
       "      <td>Bachelor's</td>\n",
       "      <td>Marketing Coordinator</td>\n",
       "      <td>1.0</td>\n",
       "      <td>45000.0</td>\n",
       "    </tr>\n",
       "    <tr>\n",
       "      <th>9</th>\n",
       "      <td>38.0</td>\n",
       "      <td>Male</td>\n",
       "      <td>PhD</td>\n",
       "      <td>Senior Scientist</td>\n",
       "      <td>10.0</td>\n",
       "      <td>110000.0</td>\n",
       "    </tr>\n",
       "  </tbody>\n",
       "</table>\n",
       "</div>"
      ],
      "text/plain": [
       "    Age  Gender Education Level              Job Title  Years of Experience  \\\n",
       "0  32.0    Male      Bachelor's      Software Engineer                  5.0   \n",
       "1  28.0  Female        Master's           Data Analyst                  3.0   \n",
       "2  45.0    Male             PhD         Senior Manager                 15.0   \n",
       "3  36.0  Female      Bachelor's        Sales Associate                  7.0   \n",
       "4  52.0    Male        Master's               Director                 20.0   \n",
       "5  29.0    Male      Bachelor's      Marketing Analyst                  2.0   \n",
       "6  42.0  Female        Master's        Product Manager                 12.0   \n",
       "7  31.0    Male      Bachelor's          Sales Manager                  4.0   \n",
       "8  26.0  Female      Bachelor's  Marketing Coordinator                  1.0   \n",
       "9  38.0    Male             PhD       Senior Scientist                 10.0   \n",
       "\n",
       "     Salary  \n",
       "0   90000.0  \n",
       "1   65000.0  \n",
       "2  150000.0  \n",
       "3   60000.0  \n",
       "4  200000.0  \n",
       "5   55000.0  \n",
       "6  120000.0  \n",
       "7   80000.0  \n",
       "8   45000.0  \n",
       "9  110000.0  "
      ]
     },
     "execution_count": 3,
     "metadata": {},
     "output_type": "execute_result"
    }
   ],
   "source": [
    "data.head(10)"
   ]
  },
  {
   "cell_type": "code",
   "execution_count": 4,
   "id": "b53bf1a6-15f3-428a-a0fe-86e6c9a17c56",
   "metadata": {},
   "outputs": [
    {
     "data": {
      "text/html": [
       "<div>\n",
       "<style scoped>\n",
       "    .dataframe tbody tr th:only-of-type {\n",
       "        vertical-align: middle;\n",
       "    }\n",
       "\n",
       "    .dataframe tbody tr th {\n",
       "        vertical-align: top;\n",
       "    }\n",
       "\n",
       "    .dataframe thead th {\n",
       "        text-align: right;\n",
       "    }\n",
       "</style>\n",
       "<table border=\"1\" class=\"dataframe\">\n",
       "  <thead>\n",
       "    <tr style=\"text-align: right;\">\n",
       "      <th></th>\n",
       "      <th>Age</th>\n",
       "      <th>Gender</th>\n",
       "      <th>Education Level</th>\n",
       "      <th>Job Title</th>\n",
       "      <th>Years of Experience</th>\n",
       "      <th>Salary</th>\n",
       "    </tr>\n",
       "  </thead>\n",
       "  <tbody>\n",
       "    <tr>\n",
       "      <th>6701</th>\n",
       "      <td>30.0</td>\n",
       "      <td>Female</td>\n",
       "      <td>Bachelor's</td>\n",
       "      <td>Financial Manager</td>\n",
       "      <td>4.0</td>\n",
       "      <td>55000.0</td>\n",
       "    </tr>\n",
       "    <tr>\n",
       "      <th>6702</th>\n",
       "      <td>46.0</td>\n",
       "      <td>Male</td>\n",
       "      <td>Master's</td>\n",
       "      <td>Marketing Manager</td>\n",
       "      <td>14.0</td>\n",
       "      <td>140000.0</td>\n",
       "    </tr>\n",
       "    <tr>\n",
       "      <th>6703</th>\n",
       "      <td>26.0</td>\n",
       "      <td>Female</td>\n",
       "      <td>High School</td>\n",
       "      <td>Sales Executive</td>\n",
       "      <td>1.0</td>\n",
       "      <td>35000.0</td>\n",
       "    </tr>\n",
       "  </tbody>\n",
       "</table>\n",
       "</div>"
      ],
      "text/plain": [
       "       Age  Gender Education Level          Job Title  Years of Experience  \\\n",
       "6701  30.0  Female      Bachelor's  Financial Manager                  4.0   \n",
       "6702  46.0    Male        Master's  Marketing Manager                 14.0   \n",
       "6703  26.0  Female     High School    Sales Executive                  1.0   \n",
       "\n",
       "        Salary  \n",
       "6701   55000.0  \n",
       "6702  140000.0  \n",
       "6703   35000.0  "
      ]
     },
     "execution_count": 4,
     "metadata": {},
     "output_type": "execute_result"
    }
   ],
   "source": [
    "data.tail(3)"
   ]
  },
  {
   "cell_type": "code",
   "execution_count": 5,
   "id": "f684b993-5518-4fc2-bdfd-4e099038e173",
   "metadata": {},
   "outputs": [
    {
     "data": {
      "text/plain": [
       "(6704, 6)"
      ]
     },
     "execution_count": 5,
     "metadata": {},
     "output_type": "execute_result"
    }
   ],
   "source": [
    "data.shape"
   ]
  },
  {
   "cell_type": "code",
   "execution_count": 6,
   "id": "b5bc81b1-62a7-4371-9cc4-b47f0978a2c3",
   "metadata": {},
   "outputs": [
    {
     "data": {
      "text/plain": [
       "Age                    2\n",
       "Gender                 2\n",
       "Education Level        3\n",
       "Job Title              2\n",
       "Years of Experience    3\n",
       "Salary                 5\n",
       "dtype: int64"
      ]
     },
     "execution_count": 6,
     "metadata": {},
     "output_type": "execute_result"
    }
   ],
   "source": [
    "#null values\n",
    "data.isna().sum() #mean mdeian mode arbitrary"
   ]
  },
  {
   "cell_type": "code",
   "execution_count": 7,
   "id": "226a2aa3-e3bd-46ce-8310-140324437009",
   "metadata": {},
   "outputs": [
    {
     "data": {
      "text/html": [
       "<div>\n",
       "<style scoped>\n",
       "    .dataframe tbody tr th:only-of-type {\n",
       "        vertical-align: middle;\n",
       "    }\n",
       "\n",
       "    .dataframe tbody tr th {\n",
       "        vertical-align: top;\n",
       "    }\n",
       "\n",
       "    .dataframe thead th {\n",
       "        text-align: right;\n",
       "    }\n",
       "</style>\n",
       "<table border=\"1\" class=\"dataframe\">\n",
       "  <thead>\n",
       "    <tr style=\"text-align: right;\">\n",
       "      <th></th>\n",
       "      <th>Age</th>\n",
       "      <th>Gender</th>\n",
       "      <th>Education Level</th>\n",
       "      <th>Job Title</th>\n",
       "      <th>Years of Experience</th>\n",
       "      <th>Salary</th>\n",
       "    </tr>\n",
       "  </thead>\n",
       "  <tbody>\n",
       "    <tr>\n",
       "      <th>0</th>\n",
       "      <td>32.0</td>\n",
       "      <td>Male</td>\n",
       "      <td>Bachelor's</td>\n",
       "      <td>Software Engineer</td>\n",
       "      <td>5.0</td>\n",
       "      <td>90000.0</td>\n",
       "    </tr>\n",
       "    <tr>\n",
       "      <th>1</th>\n",
       "      <td>28.0</td>\n",
       "      <td>Female</td>\n",
       "      <td>Master's</td>\n",
       "      <td>Data Analyst</td>\n",
       "      <td>3.0</td>\n",
       "      <td>65000.0</td>\n",
       "    </tr>\n",
       "    <tr>\n",
       "      <th>2</th>\n",
       "      <td>45.0</td>\n",
       "      <td>Male</td>\n",
       "      <td>PhD</td>\n",
       "      <td>Senior Manager</td>\n",
       "      <td>15.0</td>\n",
       "      <td>150000.0</td>\n",
       "    </tr>\n",
       "    <tr>\n",
       "      <th>3</th>\n",
       "      <td>36.0</td>\n",
       "      <td>Female</td>\n",
       "      <td>Bachelor's</td>\n",
       "      <td>Sales Associate</td>\n",
       "      <td>7.0</td>\n",
       "      <td>60000.0</td>\n",
       "    </tr>\n",
       "    <tr>\n",
       "      <th>4</th>\n",
       "      <td>52.0</td>\n",
       "      <td>Male</td>\n",
       "      <td>Master's</td>\n",
       "      <td>Director</td>\n",
       "      <td>20.0</td>\n",
       "      <td>200000.0</td>\n",
       "    </tr>\n",
       "    <tr>\n",
       "      <th>...</th>\n",
       "      <td>...</td>\n",
       "      <td>...</td>\n",
       "      <td>...</td>\n",
       "      <td>...</td>\n",
       "      <td>...</td>\n",
       "      <td>...</td>\n",
       "    </tr>\n",
       "    <tr>\n",
       "      <th>6699</th>\n",
       "      <td>49.0</td>\n",
       "      <td>Female</td>\n",
       "      <td>PhD</td>\n",
       "      <td>Director of Marketing</td>\n",
       "      <td>20.0</td>\n",
       "      <td>200000.0</td>\n",
       "    </tr>\n",
       "    <tr>\n",
       "      <th>6700</th>\n",
       "      <td>32.0</td>\n",
       "      <td>Male</td>\n",
       "      <td>High School</td>\n",
       "      <td>Sales Associate</td>\n",
       "      <td>3.0</td>\n",
       "      <td>50000.0</td>\n",
       "    </tr>\n",
       "    <tr>\n",
       "      <th>6701</th>\n",
       "      <td>30.0</td>\n",
       "      <td>Female</td>\n",
       "      <td>Bachelor's</td>\n",
       "      <td>Financial Manager</td>\n",
       "      <td>4.0</td>\n",
       "      <td>55000.0</td>\n",
       "    </tr>\n",
       "    <tr>\n",
       "      <th>6702</th>\n",
       "      <td>46.0</td>\n",
       "      <td>Male</td>\n",
       "      <td>Master's</td>\n",
       "      <td>Marketing Manager</td>\n",
       "      <td>14.0</td>\n",
       "      <td>140000.0</td>\n",
       "    </tr>\n",
       "    <tr>\n",
       "      <th>6703</th>\n",
       "      <td>26.0</td>\n",
       "      <td>Female</td>\n",
       "      <td>High School</td>\n",
       "      <td>Sales Executive</td>\n",
       "      <td>1.0</td>\n",
       "      <td>35000.0</td>\n",
       "    </tr>\n",
       "  </tbody>\n",
       "</table>\n",
       "<p>6698 rows × 6 columns</p>\n",
       "</div>"
      ],
      "text/plain": [
       "       Age  Gender Education Level              Job Title  \\\n",
       "0     32.0    Male      Bachelor's      Software Engineer   \n",
       "1     28.0  Female        Master's           Data Analyst   \n",
       "2     45.0    Male             PhD         Senior Manager   \n",
       "3     36.0  Female      Bachelor's        Sales Associate   \n",
       "4     52.0    Male        Master's               Director   \n",
       "...    ...     ...             ...                    ...   \n",
       "6699  49.0  Female             PhD  Director of Marketing   \n",
       "6700  32.0    Male     High School        Sales Associate   \n",
       "6701  30.0  Female      Bachelor's      Financial Manager   \n",
       "6702  46.0    Male        Master's      Marketing Manager   \n",
       "6703  26.0  Female     High School        Sales Executive   \n",
       "\n",
       "      Years of Experience    Salary  \n",
       "0                     5.0   90000.0  \n",
       "1                     3.0   65000.0  \n",
       "2                    15.0  150000.0  \n",
       "3                     7.0   60000.0  \n",
       "4                    20.0  200000.0  \n",
       "...                   ...       ...  \n",
       "6699                 20.0  200000.0  \n",
       "6700                  3.0   50000.0  \n",
       "6701                  4.0   55000.0  \n",
       "6702                 14.0  140000.0  \n",
       "6703                  1.0   35000.0  \n",
       "\n",
       "[6698 rows x 6 columns]"
      ]
     },
     "execution_count": 7,
     "metadata": {},
     "output_type": "execute_result"
    }
   ],
   "source": [
    "df_cleaned = data.dropna(how=\"any\")\n",
    "df_cleaned"
   ]
  },
  {
   "cell_type": "code",
   "execution_count": 8,
   "id": "ec358fbb-b7c2-4890-8357-625e3968339b",
   "metadata": {},
   "outputs": [
    {
     "data": {
      "text/plain": [
       "Age                    0\n",
       "Gender                 0\n",
       "Education Level        0\n",
       "Job Title              0\n",
       "Years of Experience    0\n",
       "Salary                 0\n",
       "dtype: int64"
      ]
     },
     "execution_count": 8,
     "metadata": {},
     "output_type": "execute_result"
    }
   ],
   "source": [
    "#null values\n",
    "df_cleaned.isna().sum() #mean mdeian mode arbitrary"
   ]
  },
  {
   "cell_type": "code",
   "execution_count": 9,
   "id": "1528f9d0-f295-4b31-ae64-b72ab351cc0a",
   "metadata": {},
   "outputs": [
    {
     "name": "stdout",
     "output_type": "stream",
     "text": [
      "Age\n",
      "27.0    516\n",
      "30.0    449\n",
      "29.0    444\n",
      "28.0    429\n",
      "33.0    398\n",
      "26.0    393\n",
      "31.0    364\n",
      "32.0    351\n",
      "34.0    309\n",
      "25.0    284\n",
      "36.0    281\n",
      "24.0    240\n",
      "35.0    200\n",
      "42.0    176\n",
      "43.0    158\n",
      "39.0    158\n",
      "37.0    156\n",
      "38.0    149\n",
      "45.0    144\n",
      "41.0    129\n",
      "44.0    126\n",
      "23.0    104\n",
      "46.0    102\n",
      "48.0     98\n",
      "40.0     92\n",
      "49.0     91\n",
      "50.0     88\n",
      "54.0     68\n",
      "47.0     47\n",
      "51.0     30\n",
      "52.0     29\n",
      "21.0     18\n",
      "55.0     16\n",
      "22.0     15\n",
      "56.0     11\n",
      "57.0      9\n",
      "53.0      7\n",
      "58.0      7\n",
      "62.0      5\n",
      "60.0      5\n",
      "61.0      2\n",
      "Name: count, dtype: int64\n"
     ]
    }
   ],
   "source": [
    "print(df_cleaned.Age.value_counts())"
   ]
  },
  {
   "cell_type": "code",
   "execution_count": 10,
   "id": "8eb4b77b-335d-4404-ad17-e5c1951c7fba",
   "metadata": {},
   "outputs": [
    {
     "name": "stdout",
     "output_type": "stream",
     "text": [
      "Education Level\n",
      "Bachelor's     3021\n",
      "Master's       1860\n",
      "PhD            1369\n",
      "High School     448\n",
      "Name: count, dtype: int64\n"
     ]
    }
   ],
   "source": [
    "print(df_cleaned[\"Education Level\"].value_counts())"
   ]
  },
  {
   "cell_type": "code",
   "execution_count": null,
   "id": "ef328136-4aff-451f-b3bc-8622fd7f55a1",
   "metadata": {},
   "outputs": [],
   "source": []
  },
  {
   "cell_type": "code",
   "execution_count": 11,
   "id": "357b064b-6743-46a1-8867-e5a39a39d3fe",
   "metadata": {},
   "outputs": [
    {
     "name": "stdout",
     "output_type": "stream",
     "text": [
      "Job Title\n",
      "Software Engineer             518\n",
      "Data Scientist                453\n",
      "Software Engineer Manager     376\n",
      "Data Analyst                  363\n",
      "Senior Project Engineer       318\n",
      "                             ... \n",
      "Account Manager                 1\n",
      "Help Desk Analyst               1\n",
      "Senior Training Specialist      1\n",
      "Junior Web Designer             1\n",
      "Software Project Manager        1\n",
      "Name: count, Length: 191, dtype: int64\n"
     ]
    }
   ],
   "source": [
    "print(df_cleaned[\"Job Title\"].value_counts())"
   ]
  },
  {
   "cell_type": "code",
   "execution_count": 12,
   "id": "ddd8c0dc-b869-4465-b408-5db6f5fadf62",
   "metadata": {},
   "outputs": [
    {
     "name": "stdout",
     "output_type": "stream",
     "text": [
      "Job Title\n",
      "Software Engineer            518\n",
      "Data Scientist               453\n",
      "Software Engineer Manager    376\n",
      "Data Analyst                 363\n",
      "Senior Project Engineer      318\n",
      "                            ... \n",
      "Junior Project Manager         5\n",
      "Senior Product Designer        5\n",
      "Senior Operations Manager      5\n",
      "Senior Financial Manager       5\n",
      "Delivery Driver                5\n",
      "Name: count, Length: 74, dtype: int64\n"
     ]
    }
   ],
   "source": [
    "# Get job titles with at least 5 occurrences\n",
    "job_counts = df_cleaned['Job Title'].value_counts()\n",
    "valid_jobs = job_counts[job_counts >= 5].index\n",
    "\n",
    "# Filter the DataFrame to include only valid jobs\n",
    "df_cleaned = df_cleaned[df_cleaned['Job Title'].isin(valid_jobs)]\n",
    "\n",
    "# Optional: Check the updated value counts\n",
    "print(df_cleaned['Job Title'].value_counts())\n"
   ]
  },
  {
   "cell_type": "code",
   "execution_count": 13,
   "id": "823f52ad-1b91-4bd4-801e-76484e6f9d0f",
   "metadata": {},
   "outputs": [
    {
     "data": {
      "text/plain": [
       "(6523, 6)"
      ]
     },
     "execution_count": 13,
     "metadata": {},
     "output_type": "execute_result"
    }
   ],
   "source": [
    "df_cleaned.shape"
   ]
  },
  {
   "cell_type": "code",
   "execution_count": 14,
   "id": "a6d71474-73ed-4ad4-b6f0-62f1c5dd183a",
   "metadata": {},
   "outputs": [
    {
     "name": "stdout",
     "output_type": "stream",
     "text": [
      "Years of Experience\n",
      "3.0     593\n",
      "2.0     593\n",
      "1.0     533\n",
      "4.0     515\n",
      "6.0     434\n",
      "8.0     415\n",
      "5.0     393\n",
      "9.0     371\n",
      "7.0     339\n",
      "11.0    313\n",
      "12.0    286\n",
      "14.0    247\n",
      "16.0    232\n",
      "13.0    207\n",
      "10.0    183\n",
      "15.0    122\n",
      "18.0    120\n",
      "0.0     118\n",
      "19.0    113\n",
      "17.0    102\n",
      "20.0     52\n",
      "22.0     44\n",
      "21.0     39\n",
      "23.0     36\n",
      "25.0     23\n",
      "24.0     18\n",
      "28.0     16\n",
      "29.0     12\n",
      "27.0     11\n",
      "32.0     10\n",
      "1.5       7\n",
      "26.0      7\n",
      "30.0      6\n",
      "33.0      6\n",
      "31.0      5\n",
      "34.0      2\n",
      "Name: count, dtype: int64\n"
     ]
    }
   ],
   "source": [
    "print(df_cleaned[\"Years of Experience\"].value_counts())"
   ]
  },
  {
   "cell_type": "code",
   "execution_count": 15,
   "id": "be53d807-b970-4bca-829d-af76fef807a4",
   "metadata": {},
   "outputs": [
    {
     "data": {
      "image/png": "[encoded data removed]",
      "text/plain": [
       "<Figure size 640x480 with 1 Axes>"
      ]
     },
     "metadata": {},
     "output_type": "display_data"
    }
   ],
   "source": [
    "#outlier detection\n",
    "import matplotlib.pyplot as plt   #visualization\n",
    "plt.boxplot(df_cleaned['Age'])\n",
    "plt.show()"
   ]
  },
  {
   "cell_type": "code",
   "execution_count": 16,
   "id": "be4cd7e0-f1ed-4a04-8d0b-6d4999c573e2",
   "metadata": {},
   "outputs": [],
   "source": [
    "df_cleaned=data[(df_cleaned['Age']<=50)&(data['Age']>=21)]"
   ]
  },
  {
   "cell_type": "code",
   "execution_count": 17,
   "id": "12d7e5aa-5f03-4bb1-be72-5d7db0daf9ce",
   "metadata": {},
   "outputs": [
    {
     "data": {
      "image/png": "[encoded data removed]",
      "text/plain": [
       "<Figure size 640x480 with 1 Axes>"
      ]
     },
     "metadata": {},
     "output_type": "display_data"
    }
   ],
   "source": [
    "plt.boxplot(df_cleaned['Age'])\n",
    "plt.show()"
   ]
  },
  {
   "cell_type": "code",
   "execution_count": 18,
   "id": "2a67abe1-a753-4b0d-b9ba-8784c733d18a",
   "metadata": {},
   "outputs": [
    {
     "data": {
      "image/png": "[encoded data removed]",
      "text/plain": [
       "<Figure size 640x480 with 1 Axes>"
      ]
     },
     "metadata": {},
     "output_type": "display_data"
    }
   ],
   "source": [
    "plt.boxplot(df_cleaned['Years of Experience'])\n",
    "plt.show()"
   ]
  },
  {
   "cell_type": "code",
   "execution_count": 19,
   "id": "6e8ad536-b464-4677-aaac-e43489d63251",
   "metadata": {},
   "outputs": [],
   "source": [
    "df_cleaned=data[(df_cleaned['Years of Experience']<=20)&(data['Years of Experience']>=0)]"
   ]
  },
  {
   "cell_type": "code",
   "execution_count": 20,
   "id": "8a7daf6d-aa7b-4774-a0e5-95b227fd0efc",
   "metadata": {},
   "outputs": [
    {
     "data": {
      "image/png": "[encoded data removed]",
      "text/plain": [
       "<Figure size 640x480 with 1 Axes>"
      ]
     },
     "metadata": {},
     "output_type": "display_data"
    }
   ],
   "source": [
    "plt.boxplot(df_cleaned['Years of Experience'])\n",
    "plt.show()"
   ]
  },
  {
   "cell_type": "code",
   "execution_count": 21,
   "id": "d6e7dde1-ce3a-423c-a2cb-5994aee826a6",
   "metadata": {},
   "outputs": [
    {
     "data": {
      "image/png": "[encoded data removed]",
      "text/plain": [
       "<Figure size 1000x600 with 1 Axes>"
      ]
     },
     "metadata": {},
     "output_type": "display_data"
    }
   ],
   "source": [
    "\n",
    "# Count job title frequencies\n",
    "job_counts = df_cleaned['Job Title'].value_counts()\n",
    "\n",
    "# Plot top N (e.g., top 20) job titles\n",
    "job_counts.head(25).plot(kind='barh', figsize=(10, 6))\n",
    "plt.xlabel('Count')\n",
    "plt.title('Top 20 Job Titles')\n",
    "plt.gca().invert_yaxis()\n",
    "plt.tight_layout()\n",
    "plt.show()\n"
   ]
  },
  {
   "cell_type": "code",
   "execution_count": 22,
   "id": "b834e5c5-ef47-4bc0-9b0c-22b50f447589",
   "metadata": {},
   "outputs": [
    {
     "name": "stdout",
     "output_type": "stream",
     "text": [
      "Job Title\n",
      "Software Engineer            518\n",
      "Data Scientist               421\n",
      "Data Analyst                 363\n",
      "Product Manager              313\n",
      "Full Stack Engineer          284\n",
      "Senior Project Engineer      279\n",
      "Marketing Manager            253\n",
      "Back end Developer           239\n",
      "Front end Developer          238\n",
      "Software Engineer Manager    236\n",
      "Senior Software Engineer     195\n",
      "Marketing Coordinator        158\n",
      "Junior Sales Associate       142\n",
      "Financial Manager            133\n",
      "Marketing Analyst            132\n",
      "Software Developer           125\n",
      "Operations Manager           113\n",
      "Human Resources Manager      104\n",
      "Web Developer                 87\n",
      "Director of Marketing         83\n",
      "Research Director             75\n",
      "Product Designer              75\n",
      "Sales Associate               70\n",
      "Director of HR                69\n",
      "Content Marketing Manager     69\n",
      "Name: count, dtype: int64\n"
     ]
    }
   ],
   "source": [
    "# Step 1: Get the top 25 job titles\n",
    "top_25_jobs = df_cleaned['Job Title'].value_counts().head(25).index\n",
    "\n",
    "# Step 2: Filter the DataFrame to keep only those top 25 job titles\n",
    "df_cleaned = df_cleaned[df_cleaned['Job Title'].isin(top_25_jobs)]\n",
    "\n",
    "# Optional: View result\n",
    "print(df_cleaned['Job Title'].value_counts())\n"
   ]
  },
  {
   "cell_type": "code",
   "execution_count": 23,
   "id": "2dd3bd99-a3b9-4633-a71c-e817f81a51cc",
   "metadata": {},
   "outputs": [
    {
     "data": {
      "text/plain": [
       "(4774, 6)"
      ]
     },
     "execution_count": 23,
     "metadata": {},
     "output_type": "execute_result"
    }
   ],
   "source": [
    "df_cleaned.shape"
   ]
  },
  {
   "cell_type": "code",
   "execution_count": 24,
   "id": "f099684e-6bf1-4e1c-8efb-e9c09852d05f",
   "metadata": {},
   "outputs": [
    {
     "data": {
      "text/html": [
       "<div>\n",
       "<style scoped>\n",
       "    .dataframe tbody tr th:only-of-type {\n",
       "        vertical-align: middle;\n",
       "    }\n",
       "\n",
       "    .dataframe tbody tr th {\n",
       "        vertical-align: top;\n",
       "    }\n",
       "\n",
       "    .dataframe thead th {\n",
       "        text-align: right;\n",
       "    }\n",
       "</style>\n",
       "<table border=\"1\" class=\"dataframe\">\n",
       "  <thead>\n",
       "    <tr style=\"text-align: right;\">\n",
       "      <th></th>\n",
       "      <th>Age</th>\n",
       "      <th>Gender</th>\n",
       "      <th>Education Level</th>\n",
       "      <th>Job Title</th>\n",
       "      <th>Years of Experience</th>\n",
       "      <th>Salary</th>\n",
       "    </tr>\n",
       "  </thead>\n",
       "  <tbody>\n",
       "    <tr>\n",
       "      <th>0</th>\n",
       "      <td>32.0</td>\n",
       "      <td>Male</td>\n",
       "      <td>Bachelor's</td>\n",
       "      <td>Software Engineer</td>\n",
       "      <td>5.0</td>\n",
       "      <td>90000.0</td>\n",
       "    </tr>\n",
       "    <tr>\n",
       "      <th>1</th>\n",
       "      <td>28.0</td>\n",
       "      <td>Female</td>\n",
       "      <td>Master's</td>\n",
       "      <td>Data Analyst</td>\n",
       "      <td>3.0</td>\n",
       "      <td>65000.0</td>\n",
       "    </tr>\n",
       "    <tr>\n",
       "      <th>3</th>\n",
       "      <td>36.0</td>\n",
       "      <td>Female</td>\n",
       "      <td>Bachelor's</td>\n",
       "      <td>Sales Associate</td>\n",
       "      <td>7.0</td>\n",
       "      <td>60000.0</td>\n",
       "    </tr>\n",
       "    <tr>\n",
       "      <th>5</th>\n",
       "      <td>29.0</td>\n",
       "      <td>Male</td>\n",
       "      <td>Bachelor's</td>\n",
       "      <td>Marketing Analyst</td>\n",
       "      <td>2.0</td>\n",
       "      <td>55000.0</td>\n",
       "    </tr>\n",
       "    <tr>\n",
       "      <th>6</th>\n",
       "      <td>42.0</td>\n",
       "      <td>Female</td>\n",
       "      <td>Master's</td>\n",
       "      <td>Product Manager</td>\n",
       "      <td>12.0</td>\n",
       "      <td>120000.0</td>\n",
       "    </tr>\n",
       "    <tr>\n",
       "      <th>...</th>\n",
       "      <td>...</td>\n",
       "      <td>...</td>\n",
       "      <td>...</td>\n",
       "      <td>...</td>\n",
       "      <td>...</td>\n",
       "      <td>...</td>\n",
       "    </tr>\n",
       "    <tr>\n",
       "      <th>6695</th>\n",
       "      <td>33.0</td>\n",
       "      <td>Female</td>\n",
       "      <td>Bachelor's</td>\n",
       "      <td>Content Marketing Manager</td>\n",
       "      <td>7.0</td>\n",
       "      <td>90000.0</td>\n",
       "    </tr>\n",
       "    <tr>\n",
       "      <th>6699</th>\n",
       "      <td>49.0</td>\n",
       "      <td>Female</td>\n",
       "      <td>PhD</td>\n",
       "      <td>Director of Marketing</td>\n",
       "      <td>20.0</td>\n",
       "      <td>200000.0</td>\n",
       "    </tr>\n",
       "    <tr>\n",
       "      <th>6700</th>\n",
       "      <td>32.0</td>\n",
       "      <td>Male</td>\n",
       "      <td>High School</td>\n",
       "      <td>Sales Associate</td>\n",
       "      <td>3.0</td>\n",
       "      <td>50000.0</td>\n",
       "    </tr>\n",
       "    <tr>\n",
       "      <th>6701</th>\n",
       "      <td>30.0</td>\n",
       "      <td>Female</td>\n",
       "      <td>Bachelor's</td>\n",
       "      <td>Financial Manager</td>\n",
       "      <td>4.0</td>\n",
       "      <td>55000.0</td>\n",
       "    </tr>\n",
       "    <tr>\n",
       "      <th>6702</th>\n",
       "      <td>46.0</td>\n",
       "      <td>Male</td>\n",
       "      <td>Master's</td>\n",
       "      <td>Marketing Manager</td>\n",
       "      <td>14.0</td>\n",
       "      <td>140000.0</td>\n",
       "    </tr>\n",
       "  </tbody>\n",
       "</table>\n",
       "<p>4774 rows × 6 columns</p>\n",
       "</div>"
      ],
      "text/plain": [
       "       Age  Gender Education Level                  Job Title  \\\n",
       "0     32.0    Male      Bachelor's          Software Engineer   \n",
       "1     28.0  Female        Master's               Data Analyst   \n",
       "3     36.0  Female      Bachelor's            Sales Associate   \n",
       "5     29.0    Male      Bachelor's          Marketing Analyst   \n",
       "6     42.0  Female        Master's            Product Manager   \n",
       "...    ...     ...             ...                        ...   \n",
       "6695  33.0  Female      Bachelor's  Content Marketing Manager   \n",
       "6699  49.0  Female             PhD      Director of Marketing   \n",
       "6700  32.0    Male     High School            Sales Associate   \n",
       "6701  30.0  Female      Bachelor's          Financial Manager   \n",
       "6702  46.0    Male        Master's          Marketing Manager   \n",
       "\n",
       "      Years of Experience    Salary  \n",
       "0                     5.0   90000.0  \n",
       "1                     3.0   65000.0  \n",
       "3                     7.0   60000.0  \n",
       "5                     2.0   55000.0  \n",
       "6                    12.0  120000.0  \n",
       "...                   ...       ...  \n",
       "6695                  7.0   90000.0  \n",
       "6699                 20.0  200000.0  \n",
       "6700                  3.0   50000.0  \n",
       "6701                  4.0   55000.0  \n",
       "6702                 14.0  140000.0  \n",
       "\n",
       "[4774 rows x 6 columns]"
      ]
     },
     "execution_count": 24,
     "metadata": {},
     "output_type": "execute_result"
    }
   ],
   "source": [
    "df_cleaned"
   ]
  },
  {
   "cell_type": "code",
   "execution_count": 25,
   "id": "9922ffde-7aec-4f6c-bc3c-541ec445ec07",
   "metadata": {},
   "outputs": [
    {
     "name": "stdout",
     "output_type": "stream",
     "text": [
      "Age                    float64\n",
      "Gender                  object\n",
      "Education Level         object\n",
      "Job Title               object\n",
      "Years of Experience    float64\n",
      "Salary                 float64\n",
      "dtype: object\n"
     ]
    }
   ],
   "source": [
    "print(df_cleaned.dtypes)"
   ]
  },
  {
   "cell_type": "code",
   "execution_count": 26,
   "id": "f7cf20b2-420b-47b1-9dfa-b84960212887",
   "metadata": {},
   "outputs": [
    {
     "name": "stdout",
     "output_type": "stream",
     "text": [
      "LogisticRegression Accuracy: 0.8628\n",
      "RandomForest Accuracy: 0.9717\n",
      "KNN Accuracy: 0.9686\n",
      "SVM Accuracy: 0.8471\n",
      "GradientBoosting Accuracy: 0.9382\n",
      "\n",
      "📊 Accuracy Comparison:\n",
      "RandomForest: 0.9717\n",
      "KNN: 0.9686\n",
      "GradientBoosting: 0.9382\n",
      "LogisticRegression: 0.8628\n",
      "SVM: 0.8471\n"
     ]
    }
   ],
   "source": [
    "from sklearn.model_selection import train_test_split\n",
    "from sklearn.preprocessing import LabelEncoder\n",
    "from sklearn.linear_model import LogisticRegression\n",
    "from sklearn.ensemble import RandomForestClassifier, GradientBoostingClassifier\n",
    "from sklearn.neighbors import KNeighborsClassifier\n",
    "from sklearn.svm import SVC\n",
    "from sklearn.metrics import accuracy_score\n",
    "\n",
    "# Make a copy to preserve original\n",
    "df_encoded = df_cleaned.copy()\n",
    "\n",
    "# Step 1: Encode categorical columns\n",
    "categorical_cols = ['Gender', 'Education Level', 'Job Title']\n",
    "label_encoders = {}\n",
    "\n",
    "for col in categorical_cols:\n",
    "    le = LabelEncoder()\n",
    "    df_encoded[col] = le.fit_transform(df_encoded[col])\n",
    "    label_encoders[col] = le  # Save encoder if needed later\n",
    "\n",
    "# Step 2: Define features and target\n",
    "# Assuming you want to classify whether Salary > 100000\n",
    "X = df_encoded.drop('Salary', axis=1)\n",
    "y = (df_encoded['Salary'] > 100000).astype(int)  # Binary target: 1 if >100K, else 0\n",
    "\n",
    "# Step 3: Split dataset\n",
    "X_train, X_test, y_train, y_test = train_test_split(\n",
    "    X, y, test_size=0.2, random_state=42)\n",
    "\n",
    "# Step 4: Define models\n",
    "models = {\n",
    "    \"LogisticRegression\": LogisticRegression(max_iter=1000),\n",
    "    \"RandomForest\": RandomForestClassifier(),\n",
    "    \"KNN\": KNeighborsClassifier(),\n",
    "    \"SVM\": SVC(),\n",
    "    \"GradientBoosting\": GradientBoostingClassifier()\n",
    "}\n",
    "\n",
    "# Step 5: Train, predict, and evaluate\n",
    "results = {}\n",
    "\n",
    "for name, model in models.items():\n",
    "    model.fit(X_train, y_train)\n",
    "    y_pred = model.predict(X_test)\n",
    "    accuracy = accuracy_score(y_test, y_pred)\n",
    "    results[name] = accuracy\n",
    "    print(f\"{name} Accuracy: {accuracy:.4f}\")\n",
    "\n",
    "# Step 6: Show results sorted\n",
    "print(\"\\n📊 Accuracy Comparison:\")\n",
    "for model_name, acc in sorted(results.items(), key=lambda x: x[1], reverse=True):\n",
    "    print(f\"{model_name}: {acc:.4f}\")\n"
   ]
  },
  {
   "cell_type": "code",
   "execution_count": 27,
   "id": "4100adc2-7505-4d34-8113-567dda18e808",
   "metadata": {},
   "outputs": [
    {
     "data": {
      "image/png": "[encoded data removed]",
      "text/plain": [
       "<Figure size 1000x600 with 1 Axes>"
      ]
     },
     "metadata": {},
     "output_type": "display_data"
    }
   ],
   "source": [
    "# Plotting the results\n",
    "plt.figure(figsize=(10, 6))\n",
    "model_names = list(results.keys())\n",
    "accuracies = list(results.values())\n",
    "\n",
    "plt.bar(model_names, accuracies, color='skyblue')\n",
    "plt.ylabel('Accuracy')\n",
    "plt.ylim(0, 1)\n",
    "plt.title('Model Accuracy Comparison')\n",
    "plt.xticks(rotation=45)\n",
    "plt.grid(axis='y', linestyle='--', alpha=0.7)\n",
    "plt.tight_layout()\n",
    "plt.show()\n"
   ]
  },
  {
   "cell_type": "code",
   "execution_count": 28,
   "id": "856ce868-3246-462e-a5ee-f6b53808e7ce",
   "metadata": {},
   "outputs": [
    {
     "name": "stdout",
     "output_type": "stream",
     "text": [
      "✅ Label encoders saved as 'label_encoders.pkl'\n",
      "\n",
      "📋 LogisticRegression Classification Report:\n",
      "              precision    recall  f1-score   support\n",
      "\n",
      "           0       0.81      0.84      0.82       360\n",
      "           1       0.90      0.88      0.89       595\n",
      "\n",
      "    accuracy                           0.86       955\n",
      "   macro avg       0.85      0.86      0.85       955\n",
      "weighted avg       0.86      0.86      0.86       955\n",
      "\n",
      "\n",
      "📋 RandomForest Classification Report:\n",
      "              precision    recall  f1-score   support\n",
      "\n",
      "           0       0.97      0.96      0.96       360\n",
      "           1       0.98      0.98      0.98       595\n",
      "\n",
      "    accuracy                           0.97       955\n",
      "   macro avg       0.97      0.97      0.97       955\n",
      "weighted avg       0.97      0.97      0.97       955\n",
      "\n",
      "\n",
      "📋 KNN Classification Report:\n",
      "              precision    recall  f1-score   support\n",
      "\n",
      "           0       0.96      0.96      0.96       360\n",
      "           1       0.97      0.97      0.97       595\n",
      "\n",
      "    accuracy                           0.97       955\n",
      "   macro avg       0.97      0.97      0.97       955\n",
      "weighted avg       0.97      0.97      0.97       955\n",
      "\n",
      "\n",
      "📋 SVM Classification Report:\n",
      "              precision    recall  f1-score   support\n",
      "\n",
      "           0       0.78      0.82      0.80       360\n",
      "           1       0.89      0.86      0.88       595\n",
      "\n",
      "    accuracy                           0.85       955\n",
      "   macro avg       0.84      0.84      0.84       955\n",
      "weighted avg       0.85      0.85      0.85       955\n",
      "\n",
      "\n",
      "📋 GradientBoosting Classification Report:\n",
      "              precision    recall  f1-score   support\n",
      "\n",
      "           0       0.93      0.90      0.92       360\n",
      "           1       0.94      0.96      0.95       595\n",
      "\n",
      "    accuracy                           0.94       955\n",
      "   macro avg       0.94      0.93      0.93       955\n",
      "weighted avg       0.94      0.94      0.94       955\n",
      "\n"
     ]
    },
    {
     "data": {
      "image/png": "[encoded data removed]",
      "text/plain": [
       "<Figure size 1000x600 with 1 Axes>"
      ]
     },
     "metadata": {},
     "output_type": "display_data"
    },
    {
     "data": {
      "image/png": "[encoded data removed]",
      "text/plain": [
       "<Figure size 1000x600 with 1 Axes>"
      ]
     },
     "metadata": {},
     "output_type": "display_data"
    },
    {
     "name": "stdout",
     "output_type": "stream",
     "text": [
      "\n",
      "✅ Best model 'RandomForest' saved as 'best_model.pkl'\n"
     ]
    }
   ],
   "source": [
    "import pandas as pd\n",
    "import matplotlib.pyplot as plt\n",
    "import joblib\n",
    "from sklearn.model_selection import train_test_split, cross_val_score\n",
    "from sklearn.preprocessing import LabelEncoder\n",
    "from sklearn.linear_model import LogisticRegression\n",
    "from sklearn.ensemble import RandomForestClassifier, GradientBoostingClassifier\n",
    "from sklearn.neighbors import KNeighborsClassifier\n",
    "from sklearn.svm import SVC\n",
    "from sklearn.metrics import (\n",
    "    accuracy_score, classification_report\n",
    ")\n",
    "\n",
    "# --- Data Preprocessing ---\n",
    "df_encoded = df_cleaned.copy()\n",
    "\n",
    "categorical_cols = ['Gender', 'Education Level', 'Job Title']\n",
    "label_encoders = {}\n",
    "\n",
    "for col in categorical_cols:\n",
    "    le = LabelEncoder()\n",
    "    df_encoded[col] = le.fit_transform(df_encoded[col])\n",
    "    label_encoders[col] = le\n",
    "# --- Save Label Encoders ---\n",
    "joblib.dump(label_encoders, 'label_encoders.pkl')\n",
    "print(\"✅ Label encoders saved as 'label_encoders.pkl'\")\n",
    "\n",
    "# Define features and target\n",
    "X = df_encoded.drop('Salary', axis=1)\n",
    "y = (df_encoded['Salary'] > 100000).astype(int)\n",
    "\n",
    "# Split data\n",
    "X_train, X_test, y_train, y_test = train_test_split(\n",
    "    X, y, test_size=0.2, random_state=42)\n",
    "\n",
    "# Define models\n",
    "models = {\n",
    "    \"LogisticRegression\": LogisticRegression(max_iter=1000),\n",
    "    \"RandomForest\": RandomForestClassifier(),\n",
    "    \"KNN\": KNeighborsClassifier(),\n",
    "    \"SVM\": SVC(),\n",
    "    \"GradientBoosting\": GradientBoostingClassifier()\n",
    "}\n",
    "\n",
    "# Store results\n",
    "accuracy_results = {}\n",
    "cv_results = {}\n",
    "classification_reports = {}\n",
    "\n",
    "# Train & evaluate each model\n",
    "for name, model in models.items():\n",
    "    model.fit(X_train, y_train)\n",
    "    y_pred = model.predict(X_test)\n",
    "\n",
    "    # Accuracy\n",
    "    acc = accuracy_score(y_test, y_pred)\n",
    "    accuracy_results[name] = acc\n",
    "\n",
    "    # Cross-validation accuracy\n",
    "    cv_score = cross_val_score(model, X, y, cv=5).mean()\n",
    "    cv_results[name] = cv_score\n",
    "\n",
    "    # Precision, recall, f1\n",
    "    report = classification_report(y_test, y_pred, output_dict=True)\n",
    "    classification_reports[name] = report\n",
    "\n",
    "    print(f\"\\n📋 {name} Classification Report:\")\n",
    "    print(classification_report(y_test, y_pred))\n",
    "\n",
    "# --- Plot Accuracy Comparison ---\n",
    "plt.figure(figsize=(10, 6))\n",
    "plt.bar(accuracy_results.keys(), accuracy_results.values(), color='orange')\n",
    "plt.ylabel(\"Accuracy\")\n",
    "plt.title(\"Model Accuracy Comparison\")\n",
    "plt.xticks(rotation=45)\n",
    "plt.grid(axis='y', linestyle='--', alpha=0.7)\n",
    "plt.tight_layout()\n",
    "plt.show()\n",
    "\n",
    "# --- Plot Cross-Validation Scores ---\n",
    "plt.figure(figsize=(10, 6))\n",
    "plt.bar(cv_results.keys(), cv_results.values(), color='green')\n",
    "plt.ylabel(\"Cross-Validation Accuracy\")\n",
    "plt.title(\"Model Cross-Validation Accuracy (5-fold)\")\n",
    "plt.xticks(rotation=45)\n",
    "plt.grid(axis='y', linestyle='--', alpha=0.7)\n",
    "plt.tight_layout()\n",
    "plt.show()\n",
    "\n",
    "# --- Save Best Model ---\n",
    "best_model_name = max(accuracy_results, key=accuracy_results.get)\n",
    "best_model = models[best_model_name]\n",
    "\n",
    "joblib.dump(best_model, 'best_model.pkl')\n",
    "print(f\"\\n✅ Best model '{best_model_name}' saved as 'best_model.pkl'\")\n"
   ]
  },
  {
   "cell_type": "code",
   "execution_count": 62,
   "id": "d199f3b5-1297-4d8b-962d-6b84a1ecf1d4",
   "metadata": {},
   "outputs": [
    {
     "name": "stdout",
     "output_type": "stream",
     "text": [
      "Overwriting streamlit_app.py\n"
     ]
    }
   ],
   "source": [
    "%%writefile streamlit_app.py\n",
    "\n",
    "import streamlit as st\n",
    "import pandas as pd\n",
    "import joblib\n",
    "import numpy as np\n",
    "\n",
    "# --- Load Model and Encoders ---\n",
    "model = joblib.load('best_model.pkl')\n",
    "label_encoders = joblib.load('label_encoders.pkl')\n",
    "\n",
    "# --- Page Configuration ---\n",
    "st.set_page_config(page_title=\"Employee Salary Predictor\", page_icon=\"💼\", layout=\"centered\")\n",
    "\n",
    "# --- App Header with Image ---\n",
    "st.markdown(\n",
    "    \"\"\"\n",
    "    <div style=\"text-align: center;\">\n",
    "        <img src=\"https://cdn-icons-png.flaticon.com/512/3135/3135768.png\" width=\"120\" />\n",
    "        <h1 style=\"color:#4CAF50;\">Employee Salary Prediction App</h1>\n",
    "        <p style=\"font-size:18px;\">Predict whether an employee earns <b>>100K</b> or <b>≤100K</b> based on their profile</p>\n",
    "    </div>\n",
    "    \"\"\",\n",
    "    unsafe_allow_html=True\n",
    ")\n",
    "\n",
    "st.markdown(\"---\")\n",
    "\n",
    "# --- Sidebar Input ---\n",
    "st.sidebar.header(\"📝 Enter Employee Details\")\n",
    "\n",
    "age = st.sidebar.slider(\"🎂 Age\", 18, 70, 30)\n",
    "gender = st.sidebar.selectbox(\"⚧️ Gender\", label_encoders['Gender'].classes_)\n",
    "education = st.sidebar.selectbox(\"🎓 Education Level\", label_encoders['Education Level'].classes_)\n",
    "job_title = st.sidebar.selectbox(\"💼 Job Title\", label_encoders['Job Title'].classes_)\n",
    "experience = st.sidebar.slider(\"📈 Years of Experience\", 0, 50, 5)\n",
    "\n",
    "# --- Input Preview ---\n",
    "with st.expander(\"🔍 View Entered Details\"):\n",
    "    st.write(f\"**Age:** {age}\")\n",
    "    st.write(f\"**Gender:** {gender}\")\n",
    "    st.write(f\"**Education Level:** {education}\")\n",
    "    st.write(f\"**Job Title:** {job_title}\")\n",
    "    st.write(f\"**Years of Experience:** {experience}\")\n",
    "\n",
    "# --- Encode Inputs ---\n",
    "input_data = {\n",
    "    'Age': age,\n",
    "    'Gender': label_encoders['Gender'].transform([gender])[0],\n",
    "    'Education Level': label_encoders['Education Level'].transform([education])[0],\n",
    "    'Job Title': label_encoders['Job Title'].transform([job_title])[0],\n",
    "    'Years of Experience': experience\n",
    "}\n",
    "input_df = pd.DataFrame([input_data])\n",
    "\n",
    "# --- Predict Button ---\n",
    "if st.button(\"🚀 Predict Salary Range\"):\n",
    "    prediction = model.predict(input_df)[0]\n",
    "    salary_label = \">100K\" if prediction == 1 else \"≤100K\"\n",
    "    st.markdown(\n",
    "        f\"\"\"\n",
    "        <div style=\"padding: 20px; background-color: #e0f7fa; border-radius: 10px; text-align: center;\">\n",
    "            <h2>💰 Predicted Salary Range: <span style=\"color: #2E7D32;\">{salary_label}</span></h2>\n",
    "        </div>\n",
    "        \"\"\",\n",
    "        unsafe_allow_html=True\n",
    "    )\n",
    "\n",
    "# --- Footer ---\n",
    "st.markdown(\"---\")\n",
    "st.markdown(\n",
    "    \"\"\"\n",
    "    <div style=\"text-align: center; font-size: 14px; color: grey;\">\n",
    "        Made by  Sarthak Agarwal\n",
    "    </div>\n",
    "    \"\"\",\n",
    "    unsafe_allow_html=True\n",
    ")\n"
   ]
  },
  {
   "cell_type": "code",
   "execution_count": null,
   "id": "26d60e88-4027-4c19-8fc0-d4aa099e54d9",
   "metadata": {},
   "outputs": [],
   "source": [
    "!streamlit run streamlit_app.py\n"
   ]
  },
  {
   "cell_type": "code",
   "execution_count": null,
   "id": "0e25f864-8cb1-4983-aa19-4cbb3e95d897",
   "metadata": {},
   "outputs": [],
   "source": []
  }
 ],
 "metadata": {
  "kernelspec": {
   "display_name": "Python [conda env:base] *",
   "language": "python",
   "name": "conda-base-py"
  },
  "language_info": {
   "codemirror_mode": {
    "name": "ipython",
    "version": 3
   },
   "file_extension": ".py",
   "mimetype": "text/x-python",
   "name": "python",
   "nbconvert_exporter": "python",
   "pygments_lexer": "ipython3",
   "version": "3.12.7"
  }
 },
 "nbformat": 4,
 "nbformat_minor": 5
}
